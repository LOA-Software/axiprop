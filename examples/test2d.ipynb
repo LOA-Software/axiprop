{
 "cells": [
  {
   "cell_type": "code",
   "execution_count": 1,
   "metadata": {},
   "outputs": [],
   "source": [
    "%matplotlib notebook \n",
    "\n",
    "import matplotlib.pyplot as plt\n",
    "import numpy as np\n",
    "from scipy.constants import c\n",
    "\n",
    "import os\n",
    "os.environ['PYOPENCL_CTX']='0'\n",
    "\n",
    "from axiprop.lib_cl import PropagatorFFT2\n",
    "from axiprop.utils import laser_from_fu, mirror_parabolic, get_temporal_1d"
   ]
  },
  {
   "cell_type": "code",
   "execution_count": 2,
   "metadata": {},
   "outputs": [],
   "source": [
    "lambda0 = 0.8e-6              # wavelength [m]\n",
    "tau_fwhm = 35e-15             # FWHM duration (intensity) [s]\n",
    "R_las = 10e-3                 # Radial size of laser [m]\n",
    "\n",
    "tau = tau_fwhm / (2*np.log(2))**0.5\n",
    "k0 = 2 * np.pi / lambda0\n",
    "\n",
    "def fu_laser(kz, r):\n",
    "    \"\"\"\n",
    "    Gaussian spot with the Gaussian temporal profile\n",
    "    \"\"\"\n",
    "    profile_r = np.exp( -(r/R_las)**2 ) * (r<2.5*R_las)\n",
    "    profile_kz = np.exp( -( (kz-k0) * c * tau / 2 )**2 )\n",
    "    return profile_r * profile_kz\n",
    "\n",
    "f_N = 400                      # f-number of the parabolic mirror\n",
    "f0 = 2 * R_las * f_N          # focal length"
   ]
  },
  {
   "cell_type": "code",
   "execution_count": 3,
   "metadata": {},
   "outputs": [],
   "source": [
    "L_kz = 8 / (c*tau)               # full spectral width [1/s] \n",
    "Nkz = 1                          # number of kz modes (1 for quick demonstration)\n",
    "w0 = 2/np.pi * lambda0 * f_N     # beam waist\n",
    "L_R = np.pi * w0**2/lambda0      # Rayleigh length\n",
    "\n",
    "Lx = 5 * R_las               # total radius [m]\n",
    "Ly = 5 * R_las               # total radius [m]\n",
    "Nx = 1024*4\n",
    "Ny = 1024*4\n",
    "\n",
    "prop = PropagatorFFT2(Lx, Ly, L_kz, Nx, Ny, Nkz, k0)"
   ]
  },
  {
   "cell_type": "code",
   "execution_count": 4,
   "metadata": {},
   "outputs": [],
   "source": [
    "A0 = laser_from_fu( fu_laser, prop.kz, prop.r, normalize=True )\n",
    "A0 /=  (R_las/w0) # normalise to the focussed amplitude\n",
    "A0 = A0 * mirror_parabolic( f0, prop.kz, prop.r )"
   ]
  },
  {
   "cell_type": "code",
   "execution_count": 5,
   "metadata": {},
   "outputs": [
    {
     "name": "stdout",
     "output_type": "stream",
     "text": [
      "Propagating the wave:\n"
     ]
    },
    {
     "ename": "AssertionError",
     "evalue": "",
     "output_type": "error",
     "traceback": [
      "\u001b[0;31m---------------------------------------------------------------------------\u001b[0m",
      "\u001b[0;31mAssertionError\u001b[0m                            Traceback (most recent call last)",
      "\u001b[0;32m<ipython-input-5-20d2f2989c6a>\u001b[0m in \u001b[0;36m<module>\u001b[0;34m\u001b[0m\n\u001b[1;32m      8\u001b[0m \u001b[0mR2\u001b[0m \u001b[0;34m=\u001b[0m \u001b[0;34m(\u001b[0m\u001b[0mprop\u001b[0m\u001b[0;34m.\u001b[0m\u001b[0mr\u001b[0m\u001b[0;34m/\u001b[0m\u001b[0mw0\u001b[0m\u001b[0;34m)\u001b[0m\u001b[0;34m**\u001b[0m\u001b[0;36m2\u001b[0m\u001b[0;34m\u001b[0m\u001b[0;34m\u001b[0m\u001b[0m\n\u001b[1;32m      9\u001b[0m \u001b[0;34m\u001b[0m\u001b[0m\n\u001b[0;32m---> 10\u001b[0;31m \u001b[0mA_multi\u001b[0m \u001b[0;34m=\u001b[0m \u001b[0mprop\u001b[0m\u001b[0;34m.\u001b[0m\u001b[0msteps\u001b[0m\u001b[0;34m(\u001b[0m\u001b[0mA0\u001b[0m\u001b[0;34m,\u001b[0m \u001b[0mzsteps\u001b[0m\u001b[0;34m)\u001b[0m\u001b[0;34m\u001b[0m\u001b[0;34m\u001b[0m\u001b[0m\n\u001b[0m",
      "\u001b[0;32m~/miniconda3/lib/python3.8/site-packages/axiprop-0.1-py3.8.egg/axiprop/lib_cl.py\u001b[0m in \u001b[0;36msteps\u001b[0;34m(self, u, dz, verbose)\u001b[0m\n\u001b[1;32m    269\u001b[0m             \u001b[0mik_loc\u001b[0m \u001b[0;34m=\u001b[0m \u001b[0mgpu\u001b[0m\u001b[0;34m.\u001b[0m\u001b[0msqrt\u001b[0m\u001b[0;34m(\u001b[0m\u001b[0mgpu\u001b[0m\u001b[0;34m.\u001b[0m\u001b[0mabs\u001b[0m\u001b[0;34m(\u001b[0m\u001b[0mself\u001b[0m\u001b[0;34m.\u001b[0m\u001b[0mkz\u001b[0m\u001b[0;34m[\u001b[0m\u001b[0mikz\u001b[0m\u001b[0;34m]\u001b[0m\u001b[0;34m**\u001b[0m\u001b[0;36m2\u001b[0m \u001b[0;34m-\u001b[0m \u001b[0mself\u001b[0m\u001b[0;34m.\u001b[0m\u001b[0mkr\u001b[0m\u001b[0;34m**\u001b[0m\u001b[0;36m2\u001b[0m\u001b[0;34m)\u001b[0m\u001b[0;34m)\u001b[0m\u001b[0;34m\u001b[0m\u001b[0;34m\u001b[0m\u001b[0m\n\u001b[1;32m    270\u001b[0m             \u001b[0;32mfor\u001b[0m \u001b[0mi_step\u001b[0m \u001b[0;32min\u001b[0m \u001b[0mrange\u001b[0m\u001b[0;34m(\u001b[0m\u001b[0mNsteps\u001b[0m\u001b[0;34m)\u001b[0m\u001b[0;34m:\u001b[0m\u001b[0;34m\u001b[0m\u001b[0;34m\u001b[0m\u001b[0m\n\u001b[0;32m--> 271\u001b[0;31m                 \u001b[0mself\u001b[0m\u001b[0;34m.\u001b[0m\u001b[0mu_ht\u001b[0m \u001b[0;34m*=\u001b[0m \u001b[0mgpu\u001b[0m\u001b[0;34m.\u001b[0m\u001b[0mexp\u001b[0m\u001b[0;34m(\u001b[0m  \u001b[0;36m1j\u001b[0m \u001b[0;34m*\u001b[0m \u001b[0mdz\u001b[0m\u001b[0;34m[\u001b[0m\u001b[0mi_step\u001b[0m\u001b[0;34m]\u001b[0m \u001b[0;34m*\u001b[0m \u001b[0mik_loc\u001b[0m \u001b[0;34m)\u001b[0m\u001b[0;34m\u001b[0m\u001b[0;34m\u001b[0m\u001b[0m\n\u001b[0m\u001b[1;32m    272\u001b[0m                 \u001b[0mself\u001b[0m\u001b[0;34m.\u001b[0m\u001b[0miTST\u001b[0m\u001b[0;34m(\u001b[0m\u001b[0;34m)\u001b[0m\u001b[0;34m\u001b[0m\u001b[0;34m\u001b[0m\u001b[0m\n\u001b[1;32m    273\u001b[0m                 \u001b[0mu_steps\u001b[0m\u001b[0;34m[\u001b[0m\u001b[0mi_step\u001b[0m\u001b[0;34m,\u001b[0m \u001b[0mikz\u001b[0m\u001b[0;34m,\u001b[0m \u001b[0;34m:\u001b[0m\u001b[0;34m]\u001b[0m \u001b[0;34m=\u001b[0m \u001b[0mgpu\u001b[0m\u001b[0;34m.\u001b[0m\u001b[0mget\u001b[0m\u001b[0;34m(\u001b[0m\u001b[0mself\u001b[0m\u001b[0;34m.\u001b[0m\u001b[0mu_iht\u001b[0m\u001b[0;34m)\u001b[0m\u001b[0;34m\u001b[0m\u001b[0;34m\u001b[0m\u001b[0m\n",
      "\u001b[0;32m~/miniconda3/lib/python3.8/site-packages/pyopencl/array.py\u001b[0m in \u001b[0;36m__imul__\u001b[0;34m(self, other)\u001b[0m\n\u001b[1;32m   1123\u001b[0m         \u001b[0;32mif\u001b[0m \u001b[0misinstance\u001b[0m\u001b[0;34m(\u001b[0m\u001b[0mother\u001b[0m\u001b[0;34m,\u001b[0m \u001b[0mArray\u001b[0m\u001b[0;34m)\u001b[0m\u001b[0;34m:\u001b[0m\u001b[0;34m\u001b[0m\u001b[0;34m\u001b[0m\u001b[0m\n\u001b[1;32m   1124\u001b[0m             self.add_event(\n\u001b[0;32m-> 1125\u001b[0;31m                     self._elwise_multiply(self, self, other))\n\u001b[0m\u001b[1;32m   1126\u001b[0m         \u001b[0;32melse\u001b[0m\u001b[0;34m:\u001b[0m\u001b[0;34m\u001b[0m\u001b[0;34m\u001b[0m\u001b[0m\n\u001b[1;32m   1127\u001b[0m             \u001b[0;31m# scalar\u001b[0m\u001b[0;34m\u001b[0m\u001b[0;34m\u001b[0m\u001b[0;34m\u001b[0m\u001b[0m\n",
      "\u001b[0;32m~/miniconda3/lib/python3.8/site-packages/pyopencl/array.py\u001b[0m in \u001b[0;36mkernel_runner\u001b[0;34m(*args, **kwargs)\u001b[0m\n\u001b[1;32m    162\u001b[0m             \u001b[0mwait_for\u001b[0m \u001b[0;34m=\u001b[0m \u001b[0mlist\u001b[0m\u001b[0;34m(\u001b[0m\u001b[0mwait_for\u001b[0m\u001b[0;34m)\u001b[0m\u001b[0;34m\u001b[0m\u001b[0;34m\u001b[0m\u001b[0m\n\u001b[1;32m    163\u001b[0m \u001b[0;34m\u001b[0m\u001b[0m\n\u001b[0;32m--> 164\u001b[0;31m         \u001b[0mknl\u001b[0m \u001b[0;34m=\u001b[0m \u001b[0mkernel_getter\u001b[0m\u001b[0;34m(\u001b[0m\u001b[0;34m*\u001b[0m\u001b[0margs\u001b[0m\u001b[0;34m,\u001b[0m \u001b[0;34m**\u001b[0m\u001b[0mkwargs\u001b[0m\u001b[0;34m)\u001b[0m\u001b[0;34m\u001b[0m\u001b[0;34m\u001b[0m\u001b[0m\n\u001b[0m\u001b[1;32m    165\u001b[0m \u001b[0;34m\u001b[0m\u001b[0m\n\u001b[1;32m    166\u001b[0m         gs, ls = repr_ary.get_sizes(queue,\n",
      "\u001b[0;32m~/miniconda3/lib/python3.8/site-packages/pyopencl/array.py\u001b[0m in \u001b[0;36m_elwise_multiply\u001b[0;34m(out, a, b, queue)\u001b[0m\n\u001b[1;32m    853\u001b[0m     \u001b[0;32mdef\u001b[0m \u001b[0m_elwise_multiply\u001b[0m\u001b[0;34m(\u001b[0m\u001b[0mout\u001b[0m\u001b[0;34m,\u001b[0m \u001b[0ma\u001b[0m\u001b[0;34m,\u001b[0m \u001b[0mb\u001b[0m\u001b[0;34m,\u001b[0m \u001b[0mqueue\u001b[0m\u001b[0;34m=\u001b[0m\u001b[0;32mNone\u001b[0m\u001b[0;34m)\u001b[0m\u001b[0;34m:\u001b[0m\u001b[0;34m\u001b[0m\u001b[0;34m\u001b[0m\u001b[0m\n\u001b[1;32m    854\u001b[0m         \u001b[0;32massert\u001b[0m \u001b[0mout\u001b[0m\u001b[0;34m.\u001b[0m\u001b[0mshape\u001b[0m \u001b[0;34m==\u001b[0m \u001b[0ma\u001b[0m\u001b[0;34m.\u001b[0m\u001b[0mshape\u001b[0m\u001b[0;34m\u001b[0m\u001b[0;34m\u001b[0m\u001b[0m\n\u001b[0;32m--> 855\u001b[0;31m         \u001b[0;32massert\u001b[0m \u001b[0mout\u001b[0m\u001b[0;34m.\u001b[0m\u001b[0mshape\u001b[0m \u001b[0;34m==\u001b[0m \u001b[0mb\u001b[0m\u001b[0;34m.\u001b[0m\u001b[0mshape\u001b[0m\u001b[0;34m\u001b[0m\u001b[0;34m\u001b[0m\u001b[0m\n\u001b[0m\u001b[1;32m    856\u001b[0m         return elementwise.get_multiply_kernel(\n\u001b[1;32m    857\u001b[0m                 a.context, a.dtype, b.dtype, out.dtype)\n",
      "\u001b[0;31mAssertionError\u001b[0m: "
     ]
    }
   ],
   "source": [
    "Nsteps = 32\n",
    "Distance = 8 * L_R\n",
    "\n",
    "dz =  Distance / Nsteps\n",
    "zsteps = Nsteps * [dz,]\n",
    "zsteps[0] = f0 - Distance/2\n",
    "z_axis = np.cumsum(zsteps)\n",
    "R2 = (prop.r/w0)**2\n",
    "\n",
    "A_multi = prop.steps(A0, zsteps)"
   ]
  },
  {
   "cell_type": "code",
   "execution_count": null,
   "metadata": {},
   "outputs": [],
   "source": [
    "IntesityPropagation = np.zeros((Nsteps, prop.Nx))\n",
    "waist = np.zeros((Nsteps))\n",
    "\n",
    "for istep in range(Nsteps):\n",
    "    val = (np.abs(A_multi[istep,:,prop.Nx//2])**2).sum(0)\n",
    "    IntesityPropagation[istep,:] = val\n",
    "    waist[istep] = 2*np.average(np.abs(prop.x/w0)**2, weights=val)**0.5\n",
    "\n",
    "IntesityPropagation = np.array(IntesityPropagation)\n",
    "FieldPropagation = IntesityPropagation**0.5"
   ]
  },
  {
   "cell_type": "code",
   "execution_count": null,
   "metadata": {},
   "outputs": [],
   "source": [
    "plt.figure(figsize=(8,4), tight_layout=True)\n",
    "\n",
    "plt.imshow(FieldPropagation.T, \n",
    "           extent=[ zsteps[0]/f0, sum(zsteps)/f0, prop.x.min()/w0, prop.x.max()/w0 ],\n",
    "           aspect='auto', origin='lower', interpolation='gaussian',\n",
    "           cmap=plt.cm.Greys_r)\n",
    "\n",
    "plt.colorbar()\n",
    "\n",
    "plt.plot(z_axis/f0, waist, c='c')\n",
    "plt.plot(z_axis/f0, ( 1 + ((z_axis-f0)/L_R)**2 )**.5, ':', c='c' )\n",
    "plt.legend(('Beam waist',))\n",
    "\n",
    "plt.xticks(np.array([1-2*L_R/f0, 1, 1+2*L_R/f0]), \n",
    "           (r'$f_0-2L_R$', r'$f_0$', r'$f_0+2L_R$',))\n",
    "\n",
    "plt.title('Optical field amplitude (a.u.)',fontsize=12)\n",
    "plt.xlabel('Distance', fontsize=12)\n",
    "plt.ylabel('$R/w_0$', fontsize=12);\n",
    "plt.ylim(-9, 9);"
   ]
  }
 ],
 "metadata": {
  "kernelspec": {
   "display_name": "Python 3",
   "language": "python",
   "name": "python3"
  },
  "language_info": {
   "codemirror_mode": {
    "name": "ipython",
    "version": 3
   },
   "file_extension": ".py",
   "mimetype": "text/x-python",
   "name": "python",
   "nbconvert_exporter": "python",
   "pygments_lexer": "ipython3",
   "version": "3.8.6"
  }
 },
 "nbformat": 4,
 "nbformat_minor": 2
}
